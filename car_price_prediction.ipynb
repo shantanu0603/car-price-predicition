{
  "nbformat": 4,
  "nbformat_minor": 0,
  "metadata": {
    "colab": {
      "provenance": []
    },
    "kernelspec": {
      "name": "python3",
      "display_name": "Python 3"
    },
    "language_info": {
      "name": "python"
    }
  },
  "cells": [
    {
      "cell_type": "markdown",
      "source": [
        "UNEMPLOYMENT ANALYSIS WITH **PYTHON**"
      ],
      "metadata": {
        "id": "fwM4NbTs-CUi"
      }
    },
    {
      "cell_type": "code",
      "source": [
        "# Display the column names of the DataFrame\n",
        "print(car_data.columns)\n"
      ],
      "metadata": {
        "colab": {
          "base_uri": "https://localhost:8080/"
        },
        "id": "efRGbsGeFIrx",
        "outputId": "5c884e7e-b088-4c7f-c8c0-3929ab757abd"
      },
      "execution_count": null,
      "outputs": [
        {
          "output_type": "stream",
          "name": "stdout",
          "text": [
            "Index(['Year', 'Selling_Price', 'Driven_kms', 'Fuel_Type', 'Selling_type',\n",
            "       'Transmission', 'Owner', 'Car_Name_800', 'Car_Name_Activa 3g',\n",
            "       'Car_Name_Activa 4g',\n",
            "       ...\n",
            "       'Present_Price_20.91', 'Present_Price_22.78', 'Present_Price_22.83',\n",
            "       'Present_Price_23.15', 'Present_Price_23.73', 'Present_Price_25.39',\n",
            "       'Present_Price_30.61', 'Present_Price_35.96', 'Present_Price_36.23',\n",
            "       'Present_Price_92.6'],\n",
            "      dtype='object', length=253)\n"
          ]
        }
      ]
    },
    {
      "cell_type": "code",
      "source": [
        "import pandas as pd\n",
        "from sklearn.model_selection import train_test_split\n",
        "from sklearn.linear_model import LinearRegression\n",
        "from sklearn.metrics import mean_squared_error\n",
        "\n",
        "# Step 1: Data Collection\n",
        "car_data = pd.read_csv(\"/content/car data.csv\")  # Load the dataset\n",
        "\n",
        "# Step 2: Data Preprocessing\n",
        "# Handle missing values (if any)\n",
        "car_data.dropna(inplace=True)\n",
        "\n",
        "# Encode categorical variables using one-hot encoding\n",
        "car_data = pd.get_dummies(car_data, columns=['Fuel_Type', 'Selling_type', 'Transmission'])\n",
        "\n",
        "# Drop unnecessary columns or columns with unique identifiers\n",
        "car_data.drop(['Car_Name'], axis=1, inplace=True)\n",
        "\n",
        "# Split the dataset into features (X) and target variable (y)\n",
        "X = car_data.drop('Selling_Price', axis=1)\n",
        "y = car_data['Selling_Price']\n",
        "\n",
        "# Split the dataset into training and testing sets\n",
        "X_train, X_test, y_train, y_test = train_test_split(X, y, test_size=0.2, random_state=42)\n",
        "\n",
        "# Step 3: Train the Model\n",
        "model = LinearRegression()\n",
        "model.fit(X_train, y_train)\n",
        "\n",
        "# Step 4: Make Predictions\n",
        "y_pred = model.predict(X_test)\n",
        "\n",
        "# Step 5: Evaluate the Model\n",
        "mse = mean_squared_error(y_test, y_pred)\n",
        "print(\"Mean Squared Error:\", mse)\n",
        "\n",
        "# Optionally, you can print the actual and predicted values\n",
        "predictions = pd.DataFrame({'Actual': y_test, 'Predicted': y_pred})\n",
        "print(predictions.head())\n"
      ],
      "metadata": {
        "colab": {
          "base_uri": "https://localhost:8080/"
        },
        "id": "yDiqW1bB-HRL",
        "outputId": "c3a34f87-dad5-4874-c362-01fe5308d43d"
      },
      "execution_count": 4,
      "outputs": [
        {
          "output_type": "stream",
          "name": "stdout",
          "text": [
            "Mean Squared Error: 3.4813498305139885\n",
            "     Actual  Predicted\n",
            "177    0.35   2.954337\n",
            "289   10.11   8.177163\n",
            "228    4.95   6.456123\n",
            "198    0.15  -1.423372\n",
            "60     6.95   9.088647\n"
          ]
        }
      ]
    }
  ]
}